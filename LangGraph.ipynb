{
  "nbformat": 4,
  "nbformat_minor": 0,
  "metadata": {
    "colab": {
      "provenance": []
    },
    "kernelspec": {
      "name": "python3",
      "display_name": "Python 3"
    },
    "language_info": {
      "name": "python"
    }
  },
  "cells": [
    {
      "cell_type": "code",
      "execution_count": 38,
      "metadata": {
        "colab": {
          "base_uri": "https://localhost:8080/"
        },
        "id": "v2bMNZWdYrUM",
        "outputId": "ba359c6f-1c8f-4b6f-fe40-2c012a2ec178"
      },
      "outputs": [
        {
          "output_type": "stream",
          "name": "stdout",
          "text": [
            "Requirement already satisfied: langgraph in /usr/local/lib/python3.12/dist-packages (1.0.1)\n",
            "Requirement already satisfied: langchain_openai in /usr/local/lib/python3.12/dist-packages (1.0.1)\n",
            "Requirement already satisfied: langchain-core>=0.1 in /usr/local/lib/python3.12/dist-packages (from langgraph) (1.0.1)\n",
            "Requirement already satisfied: langgraph-checkpoint<4.0.0,>=2.1.0 in /usr/local/lib/python3.12/dist-packages (from langgraph) (3.0.0)\n",
            "Requirement already satisfied: langgraph-prebuilt<1.1.0,>=1.0.0 in /usr/local/lib/python3.12/dist-packages (from langgraph) (1.0.1)\n",
            "Requirement already satisfied: langgraph-sdk<0.3.0,>=0.2.2 in /usr/local/lib/python3.12/dist-packages (from langgraph) (0.2.9)\n",
            "Requirement already satisfied: pydantic>=2.7.4 in /usr/local/lib/python3.12/dist-packages (from langgraph) (2.11.10)\n",
            "Requirement already satisfied: xxhash>=3.5.0 in /usr/local/lib/python3.12/dist-packages (from langgraph) (3.6.0)\n",
            "Requirement already satisfied: openai<3.0.0,>=1.109.1 in /usr/local/lib/python3.12/dist-packages (from langchain_openai) (1.109.1)\n",
            "Requirement already satisfied: tiktoken<1.0.0,>=0.7.0 in /usr/local/lib/python3.12/dist-packages (from langchain_openai) (0.12.0)\n",
            "Requirement already satisfied: jsonpatch<2.0.0,>=1.33.0 in /usr/local/lib/python3.12/dist-packages (from langchain-core>=0.1->langgraph) (1.33)\n",
            "Requirement already satisfied: langsmith<1.0.0,>=0.3.45 in /usr/local/lib/python3.12/dist-packages (from langchain-core>=0.1->langgraph) (0.4.37)\n",
            "Requirement already satisfied: packaging<26.0.0,>=23.2.0 in /usr/local/lib/python3.12/dist-packages (from langchain-core>=0.1->langgraph) (25.0)\n",
            "Requirement already satisfied: pyyaml<7.0.0,>=5.3.0 in /usr/local/lib/python3.12/dist-packages (from langchain-core>=0.1->langgraph) (6.0.3)\n",
            "Requirement already satisfied: tenacity!=8.4.0,<10.0.0,>=8.1.0 in /usr/local/lib/python3.12/dist-packages (from langchain-core>=0.1->langgraph) (8.5.0)\n",
            "Requirement already satisfied: typing-extensions<5.0.0,>=4.7.0 in /usr/local/lib/python3.12/dist-packages (from langchain-core>=0.1->langgraph) (4.15.0)\n",
            "Requirement already satisfied: ormsgpack>=1.10.0 in /usr/local/lib/python3.12/dist-packages (from langgraph-checkpoint<4.0.0,>=2.1.0->langgraph) (1.11.0)\n",
            "Requirement already satisfied: httpx>=0.25.2 in /usr/local/lib/python3.12/dist-packages (from langgraph-sdk<0.3.0,>=0.2.2->langgraph) (0.28.1)\n",
            "Requirement already satisfied: orjson>=3.10.1 in /usr/local/lib/python3.12/dist-packages (from langgraph-sdk<0.3.0,>=0.2.2->langgraph) (3.11.3)\n",
            "Requirement already satisfied: anyio<5,>=3.5.0 in /usr/local/lib/python3.12/dist-packages (from openai<3.0.0,>=1.109.1->langchain_openai) (4.11.0)\n",
            "Requirement already satisfied: distro<2,>=1.7.0 in /usr/local/lib/python3.12/dist-packages (from openai<3.0.0,>=1.109.1->langchain_openai) (1.9.0)\n",
            "Requirement already satisfied: jiter<1,>=0.4.0 in /usr/local/lib/python3.12/dist-packages (from openai<3.0.0,>=1.109.1->langchain_openai) (0.11.1)\n",
            "Requirement already satisfied: sniffio in /usr/local/lib/python3.12/dist-packages (from openai<3.0.0,>=1.109.1->langchain_openai) (1.3.1)\n",
            "Requirement already satisfied: tqdm>4 in /usr/local/lib/python3.12/dist-packages (from openai<3.0.0,>=1.109.1->langchain_openai) (4.67.1)\n",
            "Requirement already satisfied: annotated-types>=0.6.0 in /usr/local/lib/python3.12/dist-packages (from pydantic>=2.7.4->langgraph) (0.7.0)\n",
            "Requirement already satisfied: pydantic-core==2.33.2 in /usr/local/lib/python3.12/dist-packages (from pydantic>=2.7.4->langgraph) (2.33.2)\n",
            "Requirement already satisfied: typing-inspection>=0.4.0 in /usr/local/lib/python3.12/dist-packages (from pydantic>=2.7.4->langgraph) (0.4.2)\n",
            "Requirement already satisfied: regex>=2022.1.18 in /usr/local/lib/python3.12/dist-packages (from tiktoken<1.0.0,>=0.7.0->langchain_openai) (2024.11.6)\n",
            "Requirement already satisfied: requests>=2.26.0 in /usr/local/lib/python3.12/dist-packages (from tiktoken<1.0.0,>=0.7.0->langchain_openai) (2.32.4)\n",
            "Requirement already satisfied: idna>=2.8 in /usr/local/lib/python3.12/dist-packages (from anyio<5,>=3.5.0->openai<3.0.0,>=1.109.1->langchain_openai) (3.11)\n",
            "Requirement already satisfied: certifi in /usr/local/lib/python3.12/dist-packages (from httpx>=0.25.2->langgraph-sdk<0.3.0,>=0.2.2->langgraph) (2025.10.5)\n",
            "Requirement already satisfied: httpcore==1.* in /usr/local/lib/python3.12/dist-packages (from httpx>=0.25.2->langgraph-sdk<0.3.0,>=0.2.2->langgraph) (1.0.9)\n",
            "Requirement already satisfied: h11>=0.16 in /usr/local/lib/python3.12/dist-packages (from httpcore==1.*->httpx>=0.25.2->langgraph-sdk<0.3.0,>=0.2.2->langgraph) (0.16.0)\n",
            "Requirement already satisfied: jsonpointer>=1.9 in /usr/local/lib/python3.12/dist-packages (from jsonpatch<2.0.0,>=1.33.0->langchain-core>=0.1->langgraph) (3.0.0)\n",
            "Requirement already satisfied: requests-toolbelt>=1.0.0 in /usr/local/lib/python3.12/dist-packages (from langsmith<1.0.0,>=0.3.45->langchain-core>=0.1->langgraph) (1.0.0)\n",
            "Requirement already satisfied: zstandard>=0.23.0 in /usr/local/lib/python3.12/dist-packages (from langsmith<1.0.0,>=0.3.45->langchain-core>=0.1->langgraph) (0.25.0)\n",
            "Requirement already satisfied: charset_normalizer<4,>=2 in /usr/local/lib/python3.12/dist-packages (from requests>=2.26.0->tiktoken<1.0.0,>=0.7.0->langchain_openai) (3.4.4)\n",
            "Requirement already satisfied: urllib3<3,>=1.21.1 in /usr/local/lib/python3.12/dist-packages (from requests>=2.26.0->tiktoken<1.0.0,>=0.7.0->langchain_openai) (2.5.0)\n"
          ]
        }
      ],
      "source": [
        "!pip install langgraph langchain_openai"
      ]
    },
    {
      "cell_type": "code",
      "source": [
        "from typing import TypedDict, List, Dict, Any, Optional\n",
        "from langgraph.graph import StateGraph, START, END\n",
        "from langchain_openai import ChatOpenAI\n",
        "from langchain_core.messages import HumanMessage\n",
        "import os"
      ],
      "metadata": {
        "id": "7u1zR79xYvun"
      },
      "execution_count": 39,
      "outputs": []
    },
    {
      "cell_type": "code",
      "source": [
        "os.environ[\"OPENAI_API_KEY\"] = \"\""
      ],
      "metadata": {
        "id": "wj-otnQYZ3qV"
      },
      "execution_count": 40,
      "outputs": []
    },
    {
      "cell_type": "code",
      "source": [
        "model = ChatOpenAI(temperature=0)\n",
        "def read_email(state: EmailState):\n",
        "  email = state[\"email\"]\n",
        "  print(f\"Processing the email from {email['sender']} with subject: {email['subject']}\")\n",
        "  return {}\n",
        "\n",
        "def classify_email(state: EmailState):\n",
        "  email = state[\"email\"]\n",
        "  prompt = f\"\"\"\n",
        "    As Alfred the butler, analyze this email and determine if it is spam or legitimate.\n",
        "\n",
        "    Email:\n",
        "    From: {email['sender']}\n",
        "    Subject: {email['subject']}\n",
        "    Body: {email['body']}\n",
        "\n",
        "    First, determine if this email is spam. If it is spam, explain why.\n",
        "    If it is legitimate, categorize it (inquiry, complaint, thank you, etc.).\n",
        "    \"\"\"\n",
        "\n",
        "  messages = [HumanMessage(content=prompt)]\n",
        "  response = model.invoke(messages)\n",
        "  response_text = response.content.lower()\n",
        "  is_spam = \"spam\" in response_text and \"not spam\" not in response_text\n",
        "\n",
        "  spam_reason = None\n",
        "  if is_spam and \"reason: \" in response_text:\n",
        "    spam_reason = response_text.split(\"reason:\")[1].strip()\n",
        "\n",
        "  email_category = None\n",
        "  if not is_spam:\n",
        "        categories = [\"inquiry\", \"complaint\", \"thank you\", \"request\", \"information\"]\n",
        "        for category in categories:\n",
        "            if category in response_text:\n",
        "                email_category = category\n",
        "                break\n",
        "\n",
        "  new_messages = state.get(\"messages\", []) + [\n",
        "        {\"role\": \"user\", \"content\": prompt},\n",
        "        {\"role\": \"assistant\", \"content\": response.content}\n",
        "    ]\n",
        "\n",
        "  return {\n",
        "        \"is_spam\": is_spam,\n",
        "        \"spam_reason\": spam_reason,\n",
        "        \"email_category\": email_category,\n",
        "        \"messages\": new_messages\n",
        "    }"
      ],
      "metadata": {
        "id": "8c6JyEp0Zrox"
      },
      "execution_count": 41,
      "outputs": []
    },
    {
      "cell_type": "code",
      "source": [
        "def handle_spam(state: EmailState):\n",
        "    print(f\"It is spam. Reason: {state['spam_reason']}\")\n",
        "    print(\"The email has been moved to the spam folder.\")\n",
        "    return {}\n",
        "\n",
        "def draft_response(state: EmailState):\n",
        "    email = state[\"email\"]\n",
        "    category = state[\"email_category\"] or \"general\"\n",
        "    prompt = f\"\"\"\n",
        "    As Alfred the butler, draft a polite preliminary response to this email.\n",
        "\n",
        "    Email:\n",
        "    From: {email['sender']}\n",
        "    Subject: {email['subject']}\n",
        "    Body: {email['body']}\n",
        "\n",
        "    This email has been categorized as: {category}\n",
        "\n",
        "    Draft a brief, professional response that Mr. Hugg can review and personalize before sending.\n",
        "    \"\"\"\n",
        "\n",
        "    messages = [HumanMessage(content=prompt)]\n",
        "    response = model.invoke(messages)\n",
        "\n",
        "    new_messages = state.get(\"messages\", []) + [\n",
        "        {\"role\": \"user\", \"content\": prompt},\n",
        "        {\"role\": \"assistant\", \"content\": response.content}\n",
        "    ]\n",
        "\n",
        "    return {\n",
        "        \"email_draft\": response.content,\n",
        "        \"messages\": new_messages\n",
        "    }\n",
        "\n",
        "def notify_mr_hugg(state: EmailState):\n",
        "    email = state[\"email\"]\n",
        "\n",
        "    print(\"\\n\" + \"=\"*50)\n",
        "    print(f\"Sir, you've received an email from {email['sender']}.\")\n",
        "    print(f\"Subject: {email['subject']}\")\n",
        "    print(f\"Category: {state['email_category']}\")\n",
        "    print(\"\\nI've prepared a draft response for your review:\")\n",
        "    print(\"-\"*50)\n",
        "    print(state[\"email_draft\"])\n",
        "    print(\"=\"*50 + \"\\n\")\n",
        "    return {}"
      ],
      "metadata": {
        "id": "vmsB8kJlZtUy"
      },
      "execution_count": 42,
      "outputs": []
    },
    {
      "cell_type": "code",
      "source": [
        "def route_email(state: EmailState) -> str:\n",
        "    if state[\"is_spam\"]:\n",
        "        return \"spam\"\n",
        "    else:\n",
        "        return \"legitimate\""
      ],
      "metadata": {
        "id": "gFzC9fqLf55S"
      },
      "execution_count": 43,
      "outputs": []
    },
    {
      "cell_type": "code",
      "source": [
        "email_graph = StateGraph(EmailState)\n",
        "email_graph.add_node(\"read_email\", read_email)\n",
        "email_graph.add_node(\"classify_email\", classify_email)\n",
        "email_graph.add_node(\"handle_spam\", handle_spam)\n",
        "email_graph.add_node(\"draft_response\", draft_response)\n",
        "email_graph.add_node(\"notify_mr_hugg\", notify_mr_hugg)\n",
        "email_graph.add_edge(START, \"read_email\")\n",
        "email_graph.add_edge(\"read_email\", \"classify_email\")\n",
        "email_graph.add_conditional_edges(\n",
        "    \"classify_email\",\n",
        "    route_email,\n",
        "    {\n",
        "        \"spam\": \"handle_spam\",\n",
        "        \"legitimate\": \"draft_response\"\n",
        "    }\n",
        ")\n",
        "\n",
        "email_graph.add_edge(\"handle_spam\", END)\n",
        "email_graph.add_edge(\"draft_response\", \"notify_mr_hugg\")\n",
        "email_graph.add_edge(\"notify_mr_hugg\", END)"
      ],
      "metadata": {
        "colab": {
          "base_uri": "https://localhost:8080/"
        },
        "id": "YdYL0B_kgA9I",
        "outputId": "9970ae20-887b-4b1f-c9bd-3db9569e4131"
      },
      "execution_count": 44,
      "outputs": [
        {
          "output_type": "execute_result",
          "data": {
            "text/plain": [
              "<langgraph.graph.state.StateGraph at 0x7bef6d65fe60>"
            ]
          },
          "metadata": {},
          "execution_count": 44
        }
      ]
    },
    {
      "cell_type": "code",
      "source": [
        "compiled_graph = email_graph.compile()"
      ],
      "metadata": {
        "id": "vkvi5oA0gH2f"
      },
      "execution_count": 45,
      "outputs": []
    },
    {
      "cell_type": "code",
      "source": [
        "legitimate_email = {\n",
        "    \"sender\": \"john.smith@example.com\",\n",
        "    \"subject\": \"Question about your services\",\n",
        "    \"body\": \"Dear Mr. Hugg, I was referred to you by a colleague and I'm interested in learning more about your consulting services. Could we schedule a call next week? Best regards, John Smith\"\n",
        "}\n",
        "\n",
        "spam_email = {\n",
        "    \"sender\": \"winner@lottery-intl.com\",\n",
        "    \"subject\": \"YOU HAVE WON $5,000,000!!!\",\n",
        "    \"body\": \"CONGRATULATIONS! You have been selected as the winner of our international lottery! To claim your $5,000,000 prize, please send us your bank details and a processing fee of $100.\"\n",
        "}\n",
        "\n",
        "print(\"\\nProcessing legitimate email...\")\n",
        "legitimate_result = compiled_graph.invoke({\n",
        "    \"email\": legitimate_email,\n",
        "    \"is_spam\": None,\n",
        "    \"spam_reason\": None,\n",
        "    \"email_category\": None,\n",
        "    \"email_draft\": None,\n",
        "    \"messages\": []\n",
        "})\n",
        "\n",
        "print(\"\\nProcessing spam email...\")\n",
        "spam_result = compiled_graph.invoke({\n",
        "    \"email\": spam_email,\n",
        "    \"is_spam\": None,\n",
        "    \"spam_reason\": None,\n",
        "    \"email_category\": None,\n",
        "    \"email_draft\": None,\n",
        "    \"messages\": []\n",
        "})"
      ],
      "metadata": {
        "id": "OkLrwdLwnRKq"
      },
      "execution_count": null,
      "outputs": []
    }
  ]
}